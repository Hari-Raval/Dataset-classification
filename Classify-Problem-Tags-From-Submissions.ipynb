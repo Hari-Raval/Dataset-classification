{
 "cells": [
  {
   "cell_type": "markdown",
   "metadata": {},
   "source": [
    "# Imports"
   ]
  },
  {
   "cell_type": "code",
   "execution_count": 1,
   "metadata": {},
   "outputs": [],
   "source": [
    "from sklearn.model_selection import train_test_split, cross_val_score\n",
    "from sklearn.feature_extraction.text import CountVectorizer\n",
    "from sklearn.preprocessing import MultiLabelBinarizer\n",
    "from sklearn.ensemble import RandomForestClassifier\n",
    "from sklearn.multiclass import OneVsRestClassifier\n",
    "from sklearn.neural_network import MLPClassifier\n",
    "from sklearn import datasets, svm, tree, metrics\n",
    "from sklearn.cross_decomposition import CCA\n",
    "from sklearn import preprocessing\n",
    "import matplotlib.pyplot as plt\n",
    "from pandas import DataFrame\n",
    "import numpy as np\n",
    "import itertools\n",
    "import random\n",
    "import json\n",
    "import sys\n",
    "import os.path"
   ]
  },
  {
   "cell_type": "markdown",
   "metadata": {},
   "source": [
    "# Load data set into script"
   ]
  },
  {
   "cell_type": "code",
   "execution_count": 156,
   "metadata": {},
   "outputs": [],
   "source": [
    "with open('input_data.json') as data:\n",
    "    jdata = json.load(data)"
   ]
  },
  {
   "cell_type": "markdown",
   "metadata": {},
   "source": [
    "# Extract Data"
   ]
  },
  {
   "cell_type": "code",
   "execution_count": 4,
   "metadata": {
    "scrolled": true
   },
   "outputs": [],
   "source": [
    "dictionary = []\n",
    "rows = []\n",
    "index = []\n",
    "for problem in jdata:\n",
    "    for submissions in problem['Submissions']:\n",
    "        for submission in submissions:\n",
    "            code = submissions[submission]['Code'][0]\n",
    "            dictionary.append(code)\n",
    "            if problem['tags'] != []:\n",
    "                rows.append({'code':code, 'labels':problem['tags']})\n",
    "                index.append(submission)\n",
    "\n",
    "data = DataFrame(rows, index=index)"
   ]
  },
  {
   "cell_type": "markdown",
   "metadata": {},
   "source": [
    "# Split data into a training and testing set"
   ]
  },
  {
   "cell_type": "code",
   "execution_count": 25,
   "metadata": {},
   "outputs": [
    {
     "name": "stdout",
     "output_type": "stream",
     "text": [
      "['binary search' 'brute force' 'constructive algorithms' 'data structures'\n",
      " 'dfs and similar' 'dp' 'games' 'geometry' 'graphs' 'greedy'\n",
      " 'implementation' 'math' 'number theory' 'sortings' 'strings'\n",
      " 'two pointers']\n"
     ]
    }
   ],
   "source": [
    "vectorizer = CountVectorizer()\n",
    "labels_vect = CountVectorizer()\n",
    "\n",
    "BoW = vectorizer.fit_transform(dictionary)\n",
    "\n",
    "features = vectorizer.transform(data['code'].values)\n",
    "targets = data['labels'].values\n",
    "\n",
    "# create traing and testing data\n",
    "seed = 42\n",
    "data_train, data_test = train_test_split(data,test_size=0.20, random_state=seed)\n",
    "data_train.to_csv('out.csv')\n",
    "x_train = vectorizer.transform(data_train['code'].values)\n",
    "mlb = MultiLabelBinarizer()\n",
    "y_train = mlb.fit_transform(data_train['labels'].values)\n",
    "x_test = vectorizer.transform(data_test['code'].values)\n",
    "y_test = MultiLabelBinarizer().fit_transform(data_test['labels'].values)"
   ]
  },
  {
   "cell_type": "markdown",
   "metadata": {},
   "source": [
    "# Create Machine Learning Algorithms"
   ]
  },
  {
   "cell_type": "code",
   "execution_count": 19,
   "metadata": {},
   "outputs": [],
   "source": [
    "svm_classifier = OneVsRestClassifier(svm.SVC(kernel='rbf', class_weight='balanced', C=1, gamma=1))\n",
    "dt_classifier = tree.DecisionTreeClassifier(class_weight='balanced')\n",
    "rf_classifier = RandomForestClassifier(n_estimators=10,class_weight='balanced')\n",
    "nn_classifier = MLPClassifier(hidden_layer_sizes=(100,70),max_iter=500)"
   ]
  },
  {
   "cell_type": "code",
   "execution_count": 105,
   "metadata": {},
   "outputs": [
    {
     "data": {
      "text/plain": [
       "(2913, 3129)"
      ]
     },
     "execution_count": 105,
     "metadata": {},
     "output_type": "execute_result"
    }
   ],
   "source": [
    "x_train.shape"
   ]
  },
  {
   "cell_type": "code",
   "execution_count": 120,
   "metadata": {},
   "outputs": [
    {
     "data": {
      "text/plain": [
       "(2913, 16)"
      ]
     },
     "execution_count": 120,
     "metadata": {},
     "output_type": "execute_result"
    }
   ],
   "source": [
    "y_train.shape"
   ]
  },
  {
   "cell_type": "code",
   "execution_count": 153,
   "metadata": {},
   "outputs": [
    {
     "data": {
      "text/plain": [
       "MLPClassifier(activation='relu', alpha=0.0001, batch_size='auto', beta_1=0.9,\n",
       "       beta_2=0.999, early_stopping=False, epsilon=1e-08,\n",
       "       hidden_layer_sizes=(100, 70), learning_rate='constant',\n",
       "       learning_rate_init=0.001, max_iter=500, momentum=0.9,\n",
       "       nesterovs_momentum=True, power_t=0.5, random_state=None,\n",
       "       shuffle=True, solver='adam', tol=0.0001, validation_fraction=0.1,\n",
       "       verbose=False, warm_start=False)"
      ]
     },
     "execution_count": 153,
     "metadata": {},
     "output_type": "execute_result"
    }
   ],
   "source": [
    "svm_classifier.fit(x_train,y_train)\n",
    "dt_classifier.fit(x_train,y_train)\n",
    "rf_classifier.fit(x_train,y_train)\n",
    "nn_classifier.fit(x_train,y_train)"
   ]
  },
  {
   "cell_type": "code",
   "execution_count": 154,
   "metadata": {},
   "outputs": [
    {
     "name": "stdout",
     "output_type": "stream",
     "text": [
      "SVM score: 0.5775034293552812\n",
      "DT score: 0.7901234567901234\n",
      "RF score: 0.6941015089163237\n",
      "NN score: 0.6982167352537723\n"
     ]
    }
   ],
   "source": [
    "score = svm_classifier.score(x_test, y_test)\n",
    "print('SVM score: ' + str(score))\n",
    "score = dt_classifier.score(x_test, y_test)\n",
    "print('DT score: ' + str(score))\n",
    "score = rf_classifier.score(x_test, y_test)\n",
    "print('RF score: ' + str(score))\n",
    "score = nn_classifier.score(x_test, y_test)\n",
    "print('NN score: ' + str(score))"
   ]
  },
  {
   "cell_type": "code",
   "execution_count": 155,
   "metadata": {},
   "outputs": [
    {
     "name": "stdout",
     "output_type": "stream",
     "text": [
      "-------------------------------\n",
      "binary search\n"
     ]
    },
    {
     "data": {
      "text/plain": [
       "array([[720,   0],\n",
       "       [  8,   1]])"
      ]
     },
     "metadata": {},
     "output_type": "display_data"
    },
    {
     "name": "stdout",
     "output_type": "stream",
     "text": [
      "precision: 1.0\n",
      "recall: 0.1111111111111111\n",
      "fbeta_score0.19999999999999998\n",
      "-------------------------------\n",
      "brute force\n"
     ]
    },
    {
     "data": {
      "text/plain": [
       "array([[649,   0],\n",
       "       [ 57,  23]])"
      ]
     },
     "metadata": {},
     "output_type": "display_data"
    },
    {
     "name": "stdout",
     "output_type": "stream",
     "text": [
      "precision: 1.0\n",
      "recall: 0.2875\n",
      "fbeta_score0.44660194174757273\n",
      "-------------------------------\n",
      "constructive algorithms\n"
     ]
    },
    {
     "data": {
      "text/plain": [
       "array([[696,   0],\n",
       "       [ 29,   4]])"
      ]
     },
     "metadata": {},
     "output_type": "display_data"
    },
    {
     "name": "stdout",
     "output_type": "stream",
     "text": [
      "precision: 1.0\n",
      "recall: 0.12121212121212122\n",
      "fbeta_score0.21621621621621626\n",
      "-------------------------------\n",
      "data structures\n"
     ]
    },
    {
     "data": {
      "text/plain": [
       "array([[724,   0],\n",
       "       [  5,   0]])"
      ]
     },
     "metadata": {},
     "output_type": "display_data"
    },
    {
     "name": "stdout",
     "output_type": "stream",
     "text": [
      "precision: 0.0\n",
      "recall: 0.0\n",
      "fbeta_score0.0\n",
      "-------------------------------\n",
      "dfs and similar\n"
     ]
    },
    {
     "name": "stderr",
     "output_type": "stream",
     "text": [
      "/home/sznaiercamps/.conda/envs/local/lib/python3.6/site-packages/sklearn/metrics/classification.py:1135: UndefinedMetricWarning: Precision and F-score are ill-defined and being set to 0.0 due to no predicted samples.\n",
      "  'precision', 'predicted', average, warn_for)\n"
     ]
    },
    {
     "data": {
      "text/plain": [
       "array([[718,   0],\n",
       "       [ 11,   0]])"
      ]
     },
     "metadata": {},
     "output_type": "display_data"
    },
    {
     "name": "stdout",
     "output_type": "stream",
     "text": [
      "precision: 0.0\n",
      "recall: 0.0\n",
      "fbeta_score0.0\n",
      "-------------------------------\n",
      "dp\n"
     ]
    },
    {
     "data": {
      "text/plain": [
       "array([[726,   0],\n",
       "       [  3,   0]])"
      ]
     },
     "metadata": {},
     "output_type": "display_data"
    },
    {
     "name": "stdout",
     "output_type": "stream",
     "text": [
      "precision: 0.0\n",
      "recall: 0.0\n",
      "fbeta_score0.0\n",
      "-------------------------------\n",
      "games\n"
     ]
    },
    {
     "data": {
      "text/plain": [
       "array([[696,   0],\n",
       "       [  4,  29]])"
      ]
     },
     "metadata": {},
     "output_type": "display_data"
    },
    {
     "name": "stdout",
     "output_type": "stream",
     "text": [
      "precision: 1.0\n",
      "recall: 0.8787878787878788\n",
      "fbeta_score0.9354838709677419\n",
      "-------------------------------\n",
      "geometry\n"
     ]
    },
    {
     "data": {
      "text/plain": [
       "array([[723,   0],\n",
       "       [  5,   1]])"
      ]
     },
     "metadata": {},
     "output_type": "display_data"
    },
    {
     "name": "stdout",
     "output_type": "stream",
     "text": [
      "precision: 1.0\n",
      "recall: 0.16666666666666666\n",
      "fbeta_score0.2857142857142857\n",
      "-------------------------------\n",
      "graphs\n"
     ]
    },
    {
     "data": {
      "text/plain": [
       "array([[720,   0],\n",
       "       [  9,   0]])"
      ]
     },
     "metadata": {},
     "output_type": "display_data"
    },
    {
     "name": "stdout",
     "output_type": "stream",
     "text": [
      "precision: 0.0\n",
      "recall: 0.0\n",
      "fbeta_score0.0\n",
      "-------------------------------\n",
      "greedy\n"
     ]
    },
    {
     "data": {
      "text/plain": [
       "array([[605,   0],\n",
       "       [113,  11]])"
      ]
     },
     "metadata": {},
     "output_type": "display_data"
    },
    {
     "name": "stdout",
     "output_type": "stream",
     "text": [
      "precision: 1.0\n",
      "recall: 0.08870967741935484\n",
      "fbeta_score0.16296296296296298\n",
      "-------------------------------\n",
      "implementation\n"
     ]
    },
    {
     "data": {
      "text/plain": [
       "array([[150, 176],\n",
       "       [  2, 401]])"
      ]
     },
     "metadata": {},
     "output_type": "display_data"
    },
    {
     "name": "stdout",
     "output_type": "stream",
     "text": [
      "precision: 0.6949740034662045\n",
      "recall: 0.9950372208436724\n",
      "fbeta_score0.8183673469387754\n",
      "-------------------------------\n",
      "math\n"
     ]
    },
    {
     "data": {
      "text/plain": [
       "array([[516,   1],\n",
       "       [101, 111]])"
      ]
     },
     "metadata": {},
     "output_type": "display_data"
    },
    {
     "name": "stdout",
     "output_type": "stream",
     "text": [
      "precision: 0.9910714285714286\n",
      "recall: 0.5235849056603774\n",
      "fbeta_score0.6851851851851852\n",
      "-------------------------------\n",
      "number theory\n"
     ]
    },
    {
     "data": {
      "text/plain": [
       "array([[722,   0],\n",
       "       [  6,   1]])"
      ]
     },
     "metadata": {},
     "output_type": "display_data"
    },
    {
     "name": "stdout",
     "output_type": "stream",
     "text": [
      "precision: 1.0\n",
      "recall: 0.14285714285714285\n",
      "fbeta_score0.25\n",
      "-------------------------------\n",
      "sortings\n"
     ]
    },
    {
     "data": {
      "text/plain": [
       "array([[699,   0],\n",
       "       [ 26,   4]])"
      ]
     },
     "metadata": {},
     "output_type": "display_data"
    },
    {
     "name": "stdout",
     "output_type": "stream",
     "text": [
      "precision: 1.0\n",
      "recall: 0.13333333333333333\n",
      "fbeta_score0.23529411764705882\n",
      "-------------------------------\n",
      "strings\n"
     ]
    },
    {
     "data": {
      "text/plain": [
       "array([[675,   0],\n",
       "       [ 53,   1]])"
      ]
     },
     "metadata": {},
     "output_type": "display_data"
    },
    {
     "name": "stdout",
     "output_type": "stream",
     "text": [
      "precision: 1.0\n",
      "recall: 0.018518518518518517\n",
      "fbeta_score0.03636363636363636\n",
      "-------------------------------\n",
      "two pointers\n"
     ]
    },
    {
     "data": {
      "text/plain": [
       "array([[717,   0],\n",
       "       [ 11,   1]])"
      ]
     },
     "metadata": {},
     "output_type": "display_data"
    },
    {
     "name": "stdout",
     "output_type": "stream",
     "text": [
      "precision: 1.0\n",
      "recall: 0.08333333333333333\n",
      "fbeta_score0.15384615384615385\n",
      "average f1: 0.27662723234934933\n"
     ]
    }
   ],
   "source": [
    "svm_y_pred = svm_classifier.predict(x_test)\n",
    "avg = 0\n",
    "for i in range(y_test.shape[1]):\n",
    "    print('-------------------------------')\n",
    "    print(mlb.classes_[i])\n",
    "    display(metrics.confusion_matrix(y_test[:,i], svm_y_pred[:,i]))\n",
    "    precision, recall, fbeta_score, support = metrics.precision_recall_fscore_support(y_test[:,i], svm_y_pred[:,i],average='binary')\n",
    "    avg = avg + fbeta_score\n",
    "    print('precision: ' + str(precision))\n",
    "    print('recall: ' + str(recall))\n",
    "    print('fbeta_score' + str(fbeta_score))\n",
    "print('average f1: ' + str(avg/y_test.shape[1]))"
   ]
  },
  {
   "cell_type": "code",
   "execution_count": 150,
   "metadata": {},
   "outputs": [
    {
     "name": "stdout",
     "output_type": "stream",
     "text": [
      "-------------------------------\n",
      "binary search\n"
     ]
    },
    {
     "data": {
      "text/plain": [
       "array([[720,   0],\n",
       "       [  3,   6]])"
      ]
     },
     "metadata": {},
     "output_type": "display_data"
    },
    {
     "name": "stdout",
     "output_type": "stream",
     "text": [
      "precision: 1.0\n",
      "recall: 0.6666666666666666\n",
      "fbeta_score0.8\n",
      "-------------------------------\n",
      "brute force\n"
     ]
    },
    {
     "data": {
      "text/plain": [
       "array([[625,  24],\n",
       "       [ 11,  69]])"
      ]
     },
     "metadata": {},
     "output_type": "display_data"
    },
    {
     "name": "stdout",
     "output_type": "stream",
     "text": [
      "precision: 0.7419354838709677\n",
      "recall: 0.8625\n",
      "fbeta_score0.7976878612716763\n",
      "-------------------------------\n",
      "constructive algorithms\n"
     ]
    },
    {
     "data": {
      "text/plain": [
       "array([[690,   6],\n",
       "       [  9,  24]])"
      ]
     },
     "metadata": {},
     "output_type": "display_data"
    },
    {
     "name": "stdout",
     "output_type": "stream",
     "text": [
      "precision: 0.8\n",
      "recall: 0.7272727272727273\n",
      "fbeta_score0.761904761904762\n",
      "-------------------------------\n",
      "data structures\n"
     ]
    },
    {
     "data": {
      "text/plain": [
       "array([[718,   6],\n",
       "       [  2,   3]])"
      ]
     },
     "metadata": {},
     "output_type": "display_data"
    },
    {
     "name": "stdout",
     "output_type": "stream",
     "text": [
      "precision: 0.3333333333333333\n",
      "recall: 0.6\n",
      "fbeta_score0.42857142857142855\n",
      "-------------------------------\n",
      "dfs and similar\n"
     ]
    },
    {
     "data": {
      "text/plain": [
       "array([[717,   1],\n",
       "       [  2,   9]])"
      ]
     },
     "metadata": {},
     "output_type": "display_data"
    },
    {
     "name": "stdout",
     "output_type": "stream",
     "text": [
      "precision: 0.9\n",
      "recall: 0.8181818181818182\n",
      "fbeta_score0.8571428571428572\n",
      "-------------------------------\n",
      "dp\n"
     ]
    },
    {
     "data": {
      "text/plain": [
       "array([[720,   6],\n",
       "       [  2,   1]])"
      ]
     },
     "metadata": {},
     "output_type": "display_data"
    },
    {
     "name": "stdout",
     "output_type": "stream",
     "text": [
      "precision: 0.14285714285714285\n",
      "recall: 0.3333333333333333\n",
      "fbeta_score0.2\n",
      "-------------------------------\n",
      "games\n"
     ]
    },
    {
     "data": {
      "text/plain": [
       "array([[694,   2],\n",
       "       [  0,  33]])"
      ]
     },
     "metadata": {},
     "output_type": "display_data"
    },
    {
     "name": "stdout",
     "output_type": "stream",
     "text": [
      "precision: 0.9428571428571428\n",
      "recall: 1.0\n",
      "fbeta_score0.9705882352941176\n",
      "-------------------------------\n",
      "geometry\n"
     ]
    },
    {
     "data": {
      "text/plain": [
       "array([[722,   1],\n",
       "       [  1,   5]])"
      ]
     },
     "metadata": {},
     "output_type": "display_data"
    },
    {
     "name": "stdout",
     "output_type": "stream",
     "text": [
      "precision: 0.8333333333333334\n",
      "recall: 0.8333333333333334\n",
      "fbeta_score0.8333333333333334\n",
      "-------------------------------\n",
      "graphs\n"
     ]
    },
    {
     "data": {
      "text/plain": [
       "array([[719,   1],\n",
       "       [  2,   7]])"
      ]
     },
     "metadata": {},
     "output_type": "display_data"
    },
    {
     "name": "stdout",
     "output_type": "stream",
     "text": [
      "precision: 0.875\n",
      "recall: 0.7777777777777778\n",
      "fbeta_score0.823529411764706\n",
      "-------------------------------\n",
      "greedy\n"
     ]
    },
    {
     "data": {
      "text/plain": [
       "array([[575,  30],\n",
       "       [ 39,  85]])"
      ]
     },
     "metadata": {},
     "output_type": "display_data"
    },
    {
     "name": "stdout",
     "output_type": "stream",
     "text": [
      "precision: 0.7391304347826086\n",
      "recall: 0.6854838709677419\n",
      "fbeta_score0.7112970711297072\n",
      "-------------------------------\n",
      "implementation\n"
     ]
    },
    {
     "data": {
      "text/plain": [
       "array([[285,  41],\n",
       "       [ 46, 357]])"
      ]
     },
     "metadata": {},
     "output_type": "display_data"
    },
    {
     "name": "stdout",
     "output_type": "stream",
     "text": [
      "precision: 0.8969849246231156\n",
      "recall: 0.8858560794044665\n",
      "fbeta_score0.8913857677902622\n",
      "-------------------------------\n",
      "math\n"
     ]
    },
    {
     "data": {
      "text/plain": [
       "array([[479,  38],\n",
       "       [ 14, 198]])"
      ]
     },
     "metadata": {},
     "output_type": "display_data"
    },
    {
     "name": "stdout",
     "output_type": "stream",
     "text": [
      "precision: 0.8389830508474576\n",
      "recall: 0.9339622641509434\n",
      "fbeta_score0.8839285714285714\n",
      "-------------------------------\n",
      "number theory\n"
     ]
    },
    {
     "data": {
      "text/plain": [
       "array([[718,   4],\n",
       "       [  1,   6]])"
      ]
     },
     "metadata": {},
     "output_type": "display_data"
    },
    {
     "name": "stdout",
     "output_type": "stream",
     "text": [
      "precision: 0.6\n",
      "recall: 0.8571428571428571\n",
      "fbeta_score0.7058823529411764\n",
      "-------------------------------\n",
      "sortings\n"
     ]
    },
    {
     "data": {
      "text/plain": [
       "array([[687,  12],\n",
       "       [ 10,  20]])"
      ]
     },
     "metadata": {},
     "output_type": "display_data"
    },
    {
     "name": "stdout",
     "output_type": "stream",
     "text": [
      "precision: 0.625\n",
      "recall: 0.6666666666666666\n",
      "fbeta_score0.6451612903225806\n",
      "-------------------------------\n",
      "strings\n"
     ]
    },
    {
     "data": {
      "text/plain": [
       "array([[655,  20],\n",
       "       [ 34,  20]])"
      ]
     },
     "metadata": {},
     "output_type": "display_data"
    },
    {
     "name": "stdout",
     "output_type": "stream",
     "text": [
      "precision: 0.5\n",
      "recall: 0.37037037037037035\n",
      "fbeta_score0.425531914893617\n",
      "-------------------------------\n",
      "two pointers\n"
     ]
    },
    {
     "data": {
      "text/plain": [
       "array([[712,   5],\n",
       "       [  4,   8]])"
      ]
     },
     "metadata": {},
     "output_type": "display_data"
    },
    {
     "name": "stdout",
     "output_type": "stream",
     "text": [
      "precision: 0.6153846153846154\n",
      "recall: 0.6666666666666666\n",
      "fbeta_score0.64\n",
      "average f1: 0.7109965536117996\n"
     ]
    }
   ],
   "source": [
    "dt_y_pred = dt_classifier.predict(x_test)\n",
    "avg = 0\n",
    "for i in range(y_test.shape[1]):\n",
    "    print('-------------------------------')\n",
    "    print(mlb.classes_[i])\n",
    "    display(metrics.confusion_matrix(y_test[:,i], dt_y_pred[:,i]))\n",
    "    precision, recall, fbeta_score, support = metrics.precision_recall_fscore_support(y_test[:,i], dt_y_pred[:,i],average='binary')\n",
    "    avg = avg + fbeta_score\n",
    "    print('precision: ' + str(precision))\n",
    "    print('recall: ' + str(recall))\n",
    "    print('fbeta_score' + str(fbeta_score))\n",
    "print('average f1: ' + str(avg/y_test.shape[1]))"
   ]
  },
  {
   "cell_type": "code",
   "execution_count": 151,
   "metadata": {},
   "outputs": [
    {
     "name": "stdout",
     "output_type": "stream",
     "text": [
      "-------------------------------\n",
      "binary search\n"
     ]
    },
    {
     "data": {
      "text/plain": [
       "array([[720,   0],\n",
       "       [  8,   1]])"
      ]
     },
     "metadata": {},
     "output_type": "display_data"
    },
    {
     "name": "stdout",
     "output_type": "stream",
     "text": [
      "precision: 1.0\n",
      "recall: 0.1111111111111111\n",
      "fbeta_score0.19999999999999998\n",
      "-------------------------------\n",
      "brute force\n"
     ]
    },
    {
     "data": {
      "text/plain": [
       "array([[647,   2],\n",
       "       [ 24,  56]])"
      ]
     },
     "metadata": {},
     "output_type": "display_data"
    },
    {
     "name": "stdout",
     "output_type": "stream",
     "text": [
      "precision: 0.9655172413793104\n",
      "recall: 0.7\n",
      "fbeta_score0.8115942028985508\n",
      "-------------------------------\n",
      "constructive algorithms\n"
     ]
    },
    {
     "data": {
      "text/plain": [
       "array([[696,   0],\n",
       "       [ 19,  14]])"
      ]
     },
     "metadata": {},
     "output_type": "display_data"
    },
    {
     "name": "stdout",
     "output_type": "stream",
     "text": [
      "precision: 1.0\n",
      "recall: 0.42424242424242425\n",
      "fbeta_score0.5957446808510638\n",
      "-------------------------------\n",
      "data structures\n"
     ]
    },
    {
     "data": {
      "text/plain": [
       "array([[724,   0],\n",
       "       [  5,   0]])"
      ]
     },
     "metadata": {},
     "output_type": "display_data"
    },
    {
     "name": "stdout",
     "output_type": "stream",
     "text": [
      "precision: 0.0\n",
      "recall: 0.0\n",
      "fbeta_score0.0\n",
      "-------------------------------\n",
      "dfs and similar\n"
     ]
    },
    {
     "name": "stderr",
     "output_type": "stream",
     "text": [
      "/home/sznaiercamps/.conda/envs/local/lib/python3.6/site-packages/sklearn/metrics/classification.py:1135: UndefinedMetricWarning: Precision and F-score are ill-defined and being set to 0.0 due to no predicted samples.\n",
      "  'precision', 'predicted', average, warn_for)\n"
     ]
    },
    {
     "data": {
      "text/plain": [
       "array([[718,   0],\n",
       "       [  3,   8]])"
      ]
     },
     "metadata": {},
     "output_type": "display_data"
    },
    {
     "name": "stdout",
     "output_type": "stream",
     "text": [
      "precision: 1.0\n",
      "recall: 0.7272727272727273\n",
      "fbeta_score0.8421052631578948\n",
      "-------------------------------\n",
      "dp\n"
     ]
    },
    {
     "data": {
      "text/plain": [
       "array([[726,   0],\n",
       "       [  3,   0]])"
      ]
     },
     "metadata": {},
     "output_type": "display_data"
    },
    {
     "name": "stdout",
     "output_type": "stream",
     "text": [
      "precision: 0.0\n",
      "recall: 0.0\n",
      "fbeta_score0.0\n",
      "-------------------------------\n",
      "games\n"
     ]
    },
    {
     "data": {
      "text/plain": [
       "array([[696,   0],\n",
       "       [  2,  31]])"
      ]
     },
     "metadata": {},
     "output_type": "display_data"
    },
    {
     "name": "stdout",
     "output_type": "stream",
     "text": [
      "precision: 1.0\n",
      "recall: 0.9393939393939394\n",
      "fbeta_score0.96875\n",
      "-------------------------------\n",
      "geometry\n"
     ]
    },
    {
     "data": {
      "text/plain": [
       "array([[723,   0],\n",
       "       [  3,   3]])"
      ]
     },
     "metadata": {},
     "output_type": "display_data"
    },
    {
     "name": "stdout",
     "output_type": "stream",
     "text": [
      "precision: 1.0\n",
      "recall: 0.5\n",
      "fbeta_score0.6666666666666666\n",
      "-------------------------------\n",
      "graphs\n"
     ]
    },
    {
     "data": {
      "text/plain": [
       "array([[720,   0],\n",
       "       [  1,   8]])"
      ]
     },
     "metadata": {},
     "output_type": "display_data"
    },
    {
     "name": "stdout",
     "output_type": "stream",
     "text": [
      "precision: 1.0\n",
      "recall: 0.8888888888888888\n",
      "fbeta_score0.9411764705882353\n",
      "-------------------------------\n",
      "greedy\n"
     ]
    },
    {
     "data": {
      "text/plain": [
       "array([[600,   5],\n",
       "       [ 68,  56]])"
      ]
     },
     "metadata": {},
     "output_type": "display_data"
    },
    {
     "name": "stdout",
     "output_type": "stream",
     "text": [
      "precision: 0.9180327868852459\n",
      "recall: 0.45161290322580644\n",
      "fbeta_score0.6054054054054054\n",
      "-------------------------------\n",
      "implementation\n"
     ]
    },
    {
     "data": {
      "text/plain": [
       "array([[280,  46],\n",
       "       [ 39, 364]])"
      ]
     },
     "metadata": {},
     "output_type": "display_data"
    },
    {
     "name": "stdout",
     "output_type": "stream",
     "text": [
      "precision: 0.8878048780487805\n",
      "recall: 0.9032258064516129\n",
      "fbeta_score0.8954489544895449\n",
      "-------------------------------\n",
      "math\n"
     ]
    },
    {
     "data": {
      "text/plain": [
       "array([[512,   5],\n",
       "       [ 38, 174]])"
      ]
     },
     "metadata": {},
     "output_type": "display_data"
    },
    {
     "name": "stdout",
     "output_type": "stream",
     "text": [
      "precision: 0.9720670391061452\n",
      "recall: 0.8207547169811321\n",
      "fbeta_score0.8900255754475704\n",
      "-------------------------------\n",
      "number theory\n"
     ]
    },
    {
     "data": {
      "text/plain": [
       "array([[722,   0],\n",
       "       [  3,   4]])"
      ]
     },
     "metadata": {},
     "output_type": "display_data"
    },
    {
     "name": "stdout",
     "output_type": "stream",
     "text": [
      "precision: 1.0\n",
      "recall: 0.5714285714285714\n",
      "fbeta_score0.7272727272727273\n",
      "-------------------------------\n",
      "sortings\n"
     ]
    },
    {
     "data": {
      "text/plain": [
       "array([[698,   1],\n",
       "       [ 17,  13]])"
      ]
     },
     "metadata": {},
     "output_type": "display_data"
    },
    {
     "name": "stdout",
     "output_type": "stream",
     "text": [
      "precision: 0.9285714285714286\n",
      "recall: 0.43333333333333335\n",
      "fbeta_score0.5909090909090909\n",
      "-------------------------------\n",
      "strings\n"
     ]
    },
    {
     "data": {
      "text/plain": [
       "array([[674,   1],\n",
       "       [ 47,   7]])"
      ]
     },
     "metadata": {},
     "output_type": "display_data"
    },
    {
     "name": "stdout",
     "output_type": "stream",
     "text": [
      "precision: 0.875\n",
      "recall: 0.12962962962962962\n",
      "fbeta_score0.22580645161290322\n",
      "-------------------------------\n",
      "two pointers\n"
     ]
    },
    {
     "data": {
      "text/plain": [
       "array([[717,   0],\n",
       "       [ 11,   1]])"
      ]
     },
     "metadata": {},
     "output_type": "display_data"
    },
    {
     "name": "stdout",
     "output_type": "stream",
     "text": [
      "precision: 1.0\n",
      "recall: 0.08333333333333333\n",
      "fbeta_score0.15384615384615385\n",
      "average f1: 0.569671977696613\n"
     ]
    }
   ],
   "source": [
    "rf_y_pred = rf_classifier.predict(x_test)\n",
    "avg = 0\n",
    "for i in range(y_test.shape[1]):\n",
    "    print('-------------------------------')\n",
    "    print(mlb.classes_[i])\n",
    "    display(metrics.confusion_matrix(y_test[:,i], rf_y_pred[:,i]))\n",
    "    precision, recall, fbeta_score, support = metrics.precision_recall_fscore_support(y_test[:,i], rf_y_pred[:,i],average='binary')\n",
    "    avg = avg + fbeta_score\n",
    "    print('precision: ' + str(precision))\n",
    "    print('recall: ' + str(recall))\n",
    "    print('fbeta_score' + str(fbeta_score))\n",
    "print('average f1: ' + str(avg/y_test.shape[1]))"
   ]
  },
  {
   "cell_type": "code",
   "execution_count": 152,
   "metadata": {},
   "outputs": [
    {
     "name": "stdout",
     "output_type": "stream",
     "text": [
      "-------------------------------\n",
      "binary search\n"
     ]
    },
    {
     "data": {
      "text/plain": [
       "array([[718,   2],\n",
       "       [  5,   4]])"
      ]
     },
     "metadata": {},
     "output_type": "display_data"
    },
    {
     "name": "stdout",
     "output_type": "stream",
     "text": [
      "precision: 0.6666666666666666\n",
      "recall: 0.4444444444444444\n",
      "fbeta_score0.5333333333333333\n",
      "-------------------------------\n",
      "brute force\n"
     ]
    },
    {
     "data": {
      "text/plain": [
       "array([[629,  20],\n",
       "       [ 21,  59]])"
      ]
     },
     "metadata": {},
     "output_type": "display_data"
    },
    {
     "name": "stdout",
     "output_type": "stream",
     "text": [
      "precision: 0.7468354430379747\n",
      "recall: 0.7375\n",
      "fbeta_score0.7421383647798743\n",
      "-------------------------------\n",
      "constructive algorithms\n"
     ]
    },
    {
     "data": {
      "text/plain": [
       "array([[686,  10],\n",
       "       [ 12,  21]])"
      ]
     },
     "metadata": {},
     "output_type": "display_data"
    },
    {
     "name": "stdout",
     "output_type": "stream",
     "text": [
      "precision: 0.6774193548387096\n",
      "recall: 0.6363636363636364\n",
      "fbeta_score0.65625\n",
      "-------------------------------\n",
      "data structures\n"
     ]
    },
    {
     "data": {
      "text/plain": [
       "array([[724,   0],\n",
       "       [  3,   2]])"
      ]
     },
     "metadata": {},
     "output_type": "display_data"
    },
    {
     "name": "stdout",
     "output_type": "stream",
     "text": [
      "precision: 1.0\n",
      "recall: 0.4\n",
      "fbeta_score0.5714285714285715\n",
      "-------------------------------\n",
      "dfs and similar\n"
     ]
    },
    {
     "data": {
      "text/plain": [
       "array([[717,   1],\n",
       "       [  3,   8]])"
      ]
     },
     "metadata": {},
     "output_type": "display_data"
    },
    {
     "name": "stdout",
     "output_type": "stream",
     "text": [
      "precision: 0.8888888888888888\n",
      "recall: 0.7272727272727273\n",
      "fbeta_score0.7999999999999999\n",
      "-------------------------------\n",
      "dp\n"
     ]
    },
    {
     "data": {
      "text/plain": [
       "array([[726,   0],\n",
       "       [  3,   0]])"
      ]
     },
     "metadata": {},
     "output_type": "display_data"
    },
    {
     "name": "stdout",
     "output_type": "stream",
     "text": [
      "precision: 0.0\n",
      "recall: 0.0\n",
      "fbeta_score0.0\n",
      "-------------------------------\n",
      "games\n"
     ]
    },
    {
     "name": "stderr",
     "output_type": "stream",
     "text": [
      "/home/sznaiercamps/.conda/envs/local/lib/python3.6/site-packages/sklearn/metrics/classification.py:1135: UndefinedMetricWarning: Precision and F-score are ill-defined and being set to 0.0 due to no predicted samples.\n",
      "  'precision', 'predicted', average, warn_for)\n"
     ]
    },
    {
     "data": {
      "text/plain": [
       "array([[696,   0],\n",
       "       [  1,  32]])"
      ]
     },
     "metadata": {},
     "output_type": "display_data"
    },
    {
     "name": "stdout",
     "output_type": "stream",
     "text": [
      "precision: 1.0\n",
      "recall: 0.9696969696969697\n",
      "fbeta_score0.9846153846153847\n",
      "-------------------------------\n",
      "geometry\n"
     ]
    },
    {
     "data": {
      "text/plain": [
       "array([[723,   0],\n",
       "       [  3,   3]])"
      ]
     },
     "metadata": {},
     "output_type": "display_data"
    },
    {
     "name": "stdout",
     "output_type": "stream",
     "text": [
      "precision: 1.0\n",
      "recall: 0.5\n",
      "fbeta_score0.6666666666666666\n",
      "-------------------------------\n",
      "graphs\n"
     ]
    },
    {
     "data": {
      "text/plain": [
       "array([[720,   0],\n",
       "       [  3,   6]])"
      ]
     },
     "metadata": {},
     "output_type": "display_data"
    },
    {
     "name": "stdout",
     "output_type": "stream",
     "text": [
      "precision: 1.0\n",
      "recall: 0.6666666666666666\n",
      "fbeta_score0.8\n",
      "-------------------------------\n",
      "greedy\n"
     ]
    },
    {
     "data": {
      "text/plain": [
       "array([[575,  30],\n",
       "       [ 56,  68]])"
      ]
     },
     "metadata": {},
     "output_type": "display_data"
    },
    {
     "name": "stdout",
     "output_type": "stream",
     "text": [
      "precision: 0.6938775510204082\n",
      "recall: 0.5483870967741935\n",
      "fbeta_score0.6126126126126127\n",
      "-------------------------------\n",
      "implementation\n"
     ]
    },
    {
     "data": {
      "text/plain": [
       "array([[256,  70],\n",
       "       [ 47, 356]])"
      ]
     },
     "metadata": {},
     "output_type": "display_data"
    },
    {
     "name": "stdout",
     "output_type": "stream",
     "text": [
      "precision: 0.8356807511737089\n",
      "recall: 0.8833746898263027\n",
      "fbeta_score0.8588661037394452\n",
      "-------------------------------\n",
      "math\n"
     ]
    },
    {
     "data": {
      "text/plain": [
       "array([[491,  26],\n",
       "       [ 34, 178]])"
      ]
     },
     "metadata": {},
     "output_type": "display_data"
    },
    {
     "name": "stdout",
     "output_type": "stream",
     "text": [
      "precision: 0.8725490196078431\n",
      "recall: 0.839622641509434\n",
      "fbeta_score0.8557692307692308\n",
      "-------------------------------\n",
      "number theory\n"
     ]
    },
    {
     "data": {
      "text/plain": [
       "array([[719,   3],\n",
       "       [  1,   6]])"
      ]
     },
     "metadata": {},
     "output_type": "display_data"
    },
    {
     "name": "stdout",
     "output_type": "stream",
     "text": [
      "precision: 0.6666666666666666\n",
      "recall: 0.8571428571428571\n",
      "fbeta_score0.75\n",
      "-------------------------------\n",
      "sortings\n"
     ]
    },
    {
     "data": {
      "text/plain": [
       "array([[688,  11],\n",
       "       [  8,  22]])"
      ]
     },
     "metadata": {},
     "output_type": "display_data"
    },
    {
     "name": "stdout",
     "output_type": "stream",
     "text": [
      "precision: 0.6666666666666666\n",
      "recall: 0.7333333333333333\n",
      "fbeta_score0.6984126984126984\n",
      "-------------------------------\n",
      "strings\n"
     ]
    },
    {
     "data": {
      "text/plain": [
       "array([[664,  11],\n",
       "       [ 24,  30]])"
      ]
     },
     "metadata": {},
     "output_type": "display_data"
    },
    {
     "name": "stdout",
     "output_type": "stream",
     "text": [
      "precision: 0.7317073170731707\n",
      "recall: 0.5555555555555556\n",
      "fbeta_score0.631578947368421\n",
      "-------------------------------\n",
      "two pointers\n"
     ]
    },
    {
     "data": {
      "text/plain": [
       "array([[716,   1],\n",
       "       [  8,   4]])"
      ]
     },
     "metadata": {},
     "output_type": "display_data"
    },
    {
     "name": "stdout",
     "output_type": "stream",
     "text": [
      "precision: 0.8\n",
      "recall: 0.3333333333333333\n",
      "fbeta_score0.47058823529411764\n",
      "average f1: 0.6645162593137723\n"
     ]
    }
   ],
   "source": [
    "nn_y_pred = nn_classifier.predict(x_test)\n",
    "avg = 0\n",
    "for i in range(y_test.shape[1]):\n",
    "    print('-------------------------------')\n",
    "    print(mlb.classes_[i])\n",
    "    display(metrics.confusion_matrix(y_test[:,i], nn_y_pred[:,i]))\n",
    "    precision, recall, fbeta_score, support = metrics.precision_recall_fscore_support(y_test[:,i], nn_y_pred[:,i],average='binary')\n",
    "    avg = avg + fbeta_score\n",
    "    print('precision: ' + str(precision))\n",
    "    print('recall: ' + str(recall))\n",
    "    print('fbeta_score' + str(fbeta_score))\n",
    "print('average f1: ' + str(avg/y_test.shape[1]))"
   ]
  }
 ],
 "metadata": {
  "kernelspec": {
   "display_name": "Python 3",
   "language": "python",
   "name": "python3"
  },
  "language_info": {
   "codemirror_mode": {
    "name": "ipython",
    "version": 3
   },
   "file_extension": ".py",
   "mimetype": "text/x-python",
   "name": "python",
   "nbconvert_exporter": "python",
   "pygments_lexer": "ipython3",
   "version": "3.6.5"
  }
 },
 "nbformat": 4,
 "nbformat_minor": 2
}
