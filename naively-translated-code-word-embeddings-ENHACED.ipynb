{
 "cells": [
  {
   "cell_type": "markdown",
   "metadata": {},
   "source": [
    "# Imports"
   ]
  },
  {
   "cell_type": "code",
   "execution_count": null,
   "metadata": {},
   "outputs": [],
   "source": [
    "from gensim.test.utils import common_texts, get_tmpfile\n",
    "from gensim.models import Word2Vec\n",
    "import gensim\n",
    "from sklearn.model_selection import train_test_split\n",
    "from sklearn.feature_extraction.text import CountVectorizer, TfidfVectorizer\n",
    "from sklearn.model_selection import train_test_split, cross_val_score\n",
    "from sklearn.ensemble import RandomForestClassifier\n",
    "from sklearn.neural_network import MLPClassifier\n",
    "from sklearn import datasets, svm, tree, metrics\n",
    "from sklearn.cluster import KMeans\n",
    "from sklearn import preprocessing\n",
    "import matplotlib.pyplot as plt\n",
    "from pandas import DataFrame\n",
    "from pathlib import Path\n",
    "import collections\n",
    "import numpy as np\n",
    "import subprocess\n",
    "import itertools\n",
    "import os.path\n",
    "import random\n",
    "import time\n",
    "import json\n",
    "import sys\n",
    "import re"
   ]
  },
  {
   "cell_type": "markdown",
   "metadata": {},
   "source": [
    "# Load the Data"
   ]
  },
  {
   "cell_type": "code",
   "execution_count": null,
   "metadata": {},
   "outputs": [],
   "source": [
    "with open('input_data.json') as data:\n",
    "    jdata = json.load(data)"
   ]
  },
  {
   "cell_type": "markdown",
   "metadata": {},
   "source": [
    "# Clean the Data"
   ]
  },
  {
   "cell_type": "code",
   "execution_count": 144,
   "metadata": {},
   "outputs": [],
   "source": [
    "def codeToList(code):\n",
    "    clean_string = ' '.join(code.split())\n",
    "    the_list = re.split(' |\\r\\n',clean_string)\n",
    "    return the_list\n",
    "\n",
    "#from gensim.parsing.preprocessing import preprocess_string\n",
    "#from gensim.parsing.preprocessing import strip_punctuation\n",
    "#from gensim.parsing.preprocessing import strip_multiple_whitespaces\n",
    "\n",
    "#def codeToList(code):\n",
    "    \n",
    "#    CUSTOM_FILTERS = [lambda x: x.lower(), strip_punctuation, strip_multiple_whitespaces]\n",
    "#    the_list = preprocess_string(code, CUSTOM_FILTERS)\n",
    "#    return the_list"
   ]
  },
  {
   "cell_type": "code",
   "execution_count": null,
   "metadata": {},
   "outputs": [],
   "source": []
  },
  {
   "cell_type": "markdown",
   "metadata": {},
   "source": [
    "# Function to Translate Operators to Natural Language"
   ]
  },
  {
   "cell_type": "code",
   "execution_count": 145,
   "metadata": {},
   "outputs": [],
   "source": [
    "def naive_word_conversion(code_string):\n",
    "    \n",
    "    code_string = re.sub('\\>\\>=', ' is reassigned after shifting right by ', code_string)\n",
    "    code_string = re.sub('\\<\\<=', ' is reassigned after shifting left by ', code_string)\n",
    "    code_string = re.sub('\\<\\<', ' is shifted left by ', code_string)\n",
    "    code_string = re.sub('\\>\\>', ' is shifted right by ' , code_string)\n",
    "    code_string = re.sub('\\<=', ' is less than or equal to ', code_string)\n",
    "    code_string = re.sub('\\>=', ' is greater than or equal to ', code_string)\n",
    "    code_string = re.sub('-\\>', ' is dereferenced and retrieves ', code_string)\n",
    "    code_string = re.sub('\\<', ' is less than ', code_string)\n",
    "    code_string = re.sub('\\>', ' is greater than ', code_string)\n",
    "    code_string = re.sub('\\+\\+' ,' is incremented by one ' , code_string)\n",
    "    code_string = re.sub('--', ' is decremented by one ', code_string)\n",
    "    code_string = re.sub('\\+=', ' is reassinged after adding ' , code_string)\n",
    "    code_string = re.sub('\\-=', ' is reassigned after subtracting ', code_string)\n",
    "    code_string = re.sub('\\*=', ' is reassigned after multiplying by ', code_string)\n",
    "    code_string = re.sub('\\/=', ' is reassigned after dividing by ', code_string)\n",
    "    code_string = re.sub('\\%=', ' is reassigned after moding by ', code_string)\n",
    "    code_string = re.sub('&=', ' is reassigned after a bitwise AND of ', code_string)\n",
    "    code_string = re.sub('\\|=', ' is reassigned after a bitwise inclusive OR of ', code_string)\n",
    "    code_string = re.sub('\\^=', ' is reassigned after a bitwise exclusive OR of ', code_string)\n",
    "    code_string = re.sub('==', ' is equal to ', code_string)\n",
    "    code_string = re.sub('\\!=', ' is not equal to ', code_string)\n",
    "    code_string = re.sub('&&', ' and ', code_string)\n",
    "    code_string = re.sub('\\|\\|', ' or ', code_string)\n",
    "    code_string = re.sub('\\?', ' is true then ', code_string)\n",
    "    code_string = re.sub('\\:', ' else is false then ', code_string)\n",
    "    code_string = re.sub('\\/\\/', '  ', code_string)\n",
    "    code_string = re.sub('=', ' equals ', code_string)\n",
    "    code_string = re.sub('\\.', ' uses ', code_string)\n",
    "    code_string = re.sub(' -{1} ', ' is subtracted from ', code_string)\n",
    "    code_string = re.sub('\\+{1}', ' is added to ', code_string)\n",
    "    code_string = re.sub('\\/\\*([^\\*]|(\\*+([^\\*\\/])))*\\*\\/', ' ', code_string)  \n",
    "    code_string = re.sub('\\*{1}', ' is multiplied by ', code_string)\n",
    "    code_string = re.sub('&{1}', ' has an AND done with ', code_string)\n",
    "    code_string = re.sub('\\/{1}', ' is divided by ', code_string)\n",
    "    code_string = re.sub('\\%{1}', ' is moded by ', code_string)\n",
    "    code_string = re.sub('\\!{1}', ' is negated ', code_string)\n",
    "    code_string = re.sub('\\|{1}', ' has an OR done with ', code_string)\n",
    "    code_string = re.sub('\\^{1}', ' has an X OR done with ', code_string)\n",
    "    code_string = re.sub('\\(', ' open parenthesis ', code_string)\n",
    "    code_string = re.sub('\\)', ' close parenthesis ', code_string)\n",
    "    code_string = re.sub('\\[', ' open bracket ', code_string)\n",
    "    code_string = re.sub('\\]', ' close bracket ', code_string)\n",
    "    code_string = re.sub('\\#', ' ', code_string)\n",
    "    code_string = re.sub(';', ' . ', code_string)\n",
    "    \n",
    "    return code_string"
   ]
  },
  {
   "cell_type": "code",
   "execution_count": null,
   "metadata": {},
   "outputs": [],
   "source": [
    "if (False):\n",
    "    def naive_word_conversion(code_string):\n",
    "\n",
    "        code_string = re.sub('\\>\\>=', ' is reassigned after shifting right by ', code_string)\n",
    "        code_string = re.sub('\\<\\<=', ' is reassigned after shifting left by ', code_string)\n",
    "        code_string = re.sub('\\<\\<', ' is shifted left by ', code_string)\n",
    "        code_string = re.sub('\\>\\>', ' is shifted right by ' , code_string)\n",
    "        code_string = re.sub('\\<=', ' is less than or equal to ', code_string)\n",
    "        code_string = re.sub('\\>=', ' is greater than or equal to ', code_string)\n",
    "        code_string = re.sub('-\\>', ' is dereferenced and retrieves ', code_string)\n",
    "        code_string = re.sub('\\<', ' is less than ', code_string)\n",
    "        code_string = re.sub('\\>', ' is greater than ', code_string)\n",
    "        code_string = re.sub('\\+\\+' ,' is incremented by one ' , code_string)\n",
    "        code_string = re.sub('--', ' is decremented by one ', code_string)\n",
    "        code_string = re.sub('\\+=', ' is reassinged after adding ' , code_string)\n",
    "        code_string = re.sub('\\-=', ' is reassigned after subtracting ', code_string)\n",
    "        code_string = re.sub('\\*=', ' is reassigned after multiplying by ', code_string)\n",
    "        code_string = re.sub('\\/=', ' is reassigned after dividing by ', code_string)\n",
    "        code_string = re.sub('\\%=', ' is reassigned after moding by ', code_string)\n",
    "        code_string = re.sub('&=', ' is reassigned after a bitwise AND of ', code_string)\n",
    "        code_string = re.sub('\\|=', ' is reassigned after a bitwise inclusive OR of ', code_string)\n",
    "        code_string = re.sub('\\^=', ' is reassigned after a bitwise exclusive OR of ', code_string)\n",
    "        code_string = re.sub('==', ' is equal to ', code_string)\n",
    "        code_string = re.sub('\\!=', ' is not equal to ', code_string)\n",
    "        code_string = re.sub('&&', ' and ', code_string)\n",
    "        code_string = re.sub('\\|\\|', ' or ', code_string)\n",
    "        code_string = re.sub('\\?', ' is true then ', code_string)\n",
    "        code_string = re.sub('\\:', ' else is false then ', code_string)\n",
    "        code_string = re.sub('\\/\\/', '  ', code_string)\n",
    "        code_string = re.sub('=', ' equals ', code_string)\n",
    "        code_string = re.sub('\\.', ' uses ', code_string)\n",
    "        code_string = re.sub(' -{1} ', ' is subtracted from ', code_string)\n",
    "        code_string = re.sub('\\+{1}', ' is added to ', code_string)\n",
    "        code_string = re.sub('\\/\\*([^\\*]|(\\*+([^\\*\\/])))*\\*\\/', ' ', code_string)  \n",
    "        code_string = re.sub('\\*{1}', ' is multiplied by ', code_string)\n",
    "        code_string = re.sub('&{1}', ' has an AND done with ', code_string)\n",
    "        code_string = re.sub('\\/{1}', ' is divided by ', code_string)\n",
    "        code_string = re.sub('\\%{1}', ' is moded by ', code_string)\n",
    "        code_string = re.sub('\\!{1}', ' is negated ', code_string)\n",
    "        code_string = re.sub('\\|{1}', ' has an OR done with ', code_string)\n",
    "        code_string = re.sub('\\^{1}', ' has an X OR done with ', code_string)\n",
    "        code_string = re.sub('\\{', ' open curly brackets ', code_string)\n",
    "        code_string = re.sub('\\}', ' close curly brackets ', code_string)\n",
    "        code_string = re.sub('\\(', ' open parenthesis ', code_string)\n",
    "        code_string = re.sub('\\)', ' close parenthesis ', code_string)\n",
    "        code_string = re.sub('\\[', ' open bracket ', code_string)\n",
    "        code_string = re.sub('\\]', ' close bracket ', code_string)\n",
    "        code_string = re.sub('\\#', ' ', code_string)\n",
    "        code_string = re.sub(';', ' . ', code_string)\n",
    "        code_string = re.sub('[0-9]+', ' a number ', code_string)\n",
    "        code_string = re.sub(',', ' ', code_string)\n",
    "        code_string = re.sub('\\.', ' ', code_string)\n",
    "\n",
    "        return code_string"
   ]
  },
  {
   "cell_type": "markdown",
   "metadata": {},
   "source": [
    "\n",
    "# Extract the Vectors "
   ]
  },
  {
   "cell_type": "code",
   "execution_count": 146,
   "metadata": {},
   "outputs": [
    {
     "name": "stdout",
     "output_type": "stream",
     "text": [
      "[['include', 'is', 'less', 'than', 'stdio', 'uses', 'h', 'is', 'greater', 'than', 'include', 'is', 'less', 'than', 'string', 'uses', 'h', 'is', 'greater', 'than', 'int', 'len', '.', 'char', 'data', 'open', 'bracket', '200', 'close', 'bracket', '.', 'int', 'main', 'open', 'parenthesis', 'close', 'parenthesis', '{', 'int', 'i,', 'cnt', 'equals', '0', '.', 'scanf', 'open', 'parenthesis', '\"', 'is', 'moded', 'by', 's\",', 'data', 'close', 'parenthesis', '.', 'len', 'equals', 'strlen', 'open', 'parenthesis', 'data', 'close', 'parenthesis', '.', 'for', 'open', 'parenthesis', 'i', 'equals', '0', '.', 'i', 'is', 'less', 'than', 'len', '.', 'i', 'is', 'incremented', 'by', 'one', 'close', 'parenthesis', '{', 'if', 'open', 'parenthesis', 'data', 'open', 'bracket', 'i', 'close', 'bracket', 'is', 'equal', 'to', \"'o'\", 'close', 'parenthesis', 'cnt', 'is', 'incremented', 'by', 'one', '.', '}', 'if', 'open', 'parenthesis', 'cnt', 'is', 'equal', 'to', '0', 'close', 'parenthesis', 'printf', 'open', 'parenthesis', '\"YES\"', 'close', 'parenthesis', '.', 'else', '{', 'if', 'open', 'parenthesis', 'open', 'parenthesis', 'len-cnt', 'close', 'parenthesis', 'is', 'moded', 'by', 'cnt', 'is', 'equal', 'to', '0', 'close', 'parenthesis', 'printf', 'open', 'parenthesis', '\"YES\"', 'close', 'parenthesis', '.', 'else', 'printf', 'open', 'parenthesis', '\"NO\"', 'close', 'parenthesis', '.', '}', 'return', '0', '.', '}'], ['include', 'is', 'less', 'than', 'stdio', 'uses', 'h', 'is', 'greater', 'than', 'include', 'is', 'less', 'than', 'string', 'uses', 'h', 'is', 'greater', 'than', 'include', 'is', 'less', 'than', 'stdlib', 'uses', 'h', 'is', 'greater', 'than', 'include', 'is', 'less', 'than', 'math', 'uses', 'h', 'is', 'greater', 'than', 'int', 'main', 'open', 'parenthesis', 'close', 'parenthesis', '{', 'int', 's', 'equals', '0,d,i,j,t', '.', 'char', 'ss', 'open', 'bracket', '105', 'close', 'bracket', 'equals', '{0}', '.', 'scanf', 'open', 'parenthesis', '\"', 'is', 'moded', 'by', 's\",ss', 'close', 'parenthesis', '.', 't', 'equals', 'strlen', 'open', 'parenthesis', 'ss', 'close', 'parenthesis', '.', 'for', 'open', 'parenthesis', 'i', 'equals', '0', '.', 'i', 'is', 'less', 'than', 't', '.', 'i', 'is', 'incremented', 'by', 'one', 'close', 'parenthesis', 'if', 'open', 'parenthesis', 'ss', 'open', 'bracket', 'i', 'close', 'bracket', 'is', 'equal', 'to', \"'o'\", 'close', 'parenthesis', 's', 'is', 'incremented', 'by', 'one', '.', 't', 'equals', 't-s', '.', 'if', 'open', 'parenthesis', 's', 'is', 'equal', 'to', '0', 'close', 'parenthesis', 'printf', 'open', 'parenthesis', '\"YES\\\\n\"', 'close', 'parenthesis', '.', 'else', 'if', 'open', 'parenthesis', 't', 'is', 'moded', 'by', 's', 'is', 'equal', 'to', '0', 'close', 'parenthesis', '{printf', 'open', 'parenthesis', '\"YES\\\\n\"', 'close', 'parenthesis', '.', '}', 'else', 'printf', 'open', 'parenthesis', '\"NO\\\\n\"', 'close', 'parenthesis', '.', 'return', '0', '.', '}'], ['include', 'is', 'less', 'than', 'stdio', 'uses', 'h', 'is', 'greater', 'than', 'int', 'main', 'open', 'parenthesis', 'close', 'parenthesis', '{', 'int', 'p', 'equals', '0,', 'l', 'equals', '0', '.', 'char', 'in', 'open', 'bracket', '111', 'close', 'bracket', '.', 'scanf', 'open', 'parenthesis', '\"', 'is', 'moded', 'by', 's\",', 'in', 'close', 'parenthesis', '.', 'for', 'open', 'parenthesis', 'int', 'i', 'equals', '0', '.', 'in', 'open', 'bracket', 'i', 'close', 'bracket', '.', 'i', 'is', 'incremented', 'by', 'one', 'close', 'parenthesis', 'in', 'open', 'bracket', 'i', 'close', 'bracket', 'is', 'equal', 'to', \"'-'\", 'is', 'true', 'then', 'l', 'is', 'incremented', 'by', 'one', 'else', 'is', 'false', 'then', 'p', 'is', 'incremented', 'by', 'one', '.', 'puts', 'open', 'parenthesis', 'p', 'is', 'true', 'then', 'l', 'is', 'moded', 'by', 'p', 'is', 'true', 'then', '\"NO\"', 'else', 'is', 'false', 'then', '\"YES\"', 'else', 'is', 'false', 'then', '\"YES\"', 'close', 'parenthesis', '.', 'return', '0', '.', '}'], ['include', 'is', 'less', 'than', 'stdio', 'uses', 'h', 'is', 'greater', 'than', 'include', 'is', 'less', 'than', 'string', 'uses', 'h', 'is', 'greater', 'than', 'include', 'is', 'less', 'than', 'unistd', 'uses', 'h', 'is', 'greater', 'than', 'include', 'is', 'less', 'than', 'stdlib', 'uses', 'h', 'is', 'greater', 'than', 'int', 'main', 'open', 'parenthesis', 'close', 'parenthesis', '{', 'char', 'necklace', 'open', 'bracket', '101', 'close', 'bracket', '.', 'int', 'num_o', 'equals', '0', '.', 'int', 'num_dash', 'equals', '0', '.', 'int', 'i', '.', 'int', 'length', '.', 'scanf', 'open', 'parenthesis', '\"', 'is', 'moded', 'by', 's\",', 'necklace', 'close', 'parenthesis', '.', 'length', 'equals', 'strlen', 'open', 'parenthesis', 'necklace', 'close', 'parenthesis', '.', 'for', 'open', 'parenthesis', 'i', 'equals', '0', '.', 'i', 'is', 'less', 'than', 'length', '.', 'i', 'is', 'incremented', 'by', 'one', 'close', 'parenthesis', '{', 'if', 'open', 'parenthesis', 'necklace', 'open', 'bracket', 'i', 'close', 'bracket', 'is', 'equal', 'to', \"'-'\", 'close', 'parenthesis', '{', 'num_dash', 'is', 'incremented', 'by', 'one', '.', '}', 'if', 'open', 'parenthesis', 'necklace', 'open', 'bracket', 'i', 'close', 'bracket', 'is', 'equal', 'to', \"'o'\", 'close', 'parenthesis', '{', 'num_o', 'is', 'incremented', 'by', 'one', '.', '}', '}', 'if', 'open', 'parenthesis', 'num_o', 'is', 'equal', 'to', '0', 'close', 'parenthesis', '{', 'printf', 'open', 'parenthesis', '\"YES\"', 'close', 'parenthesis', '.', 'exit', 'open', 'parenthesis', '0', 'close', 'parenthesis', '.', '}', 'if', 'open', 'parenthesis', 'num_dash', 'is', 'moded', 'by', 'num_o', 'is', 'equal', 'to', '0', 'close', 'parenthesis', '{', 'printf', 'open', 'parenthesis', '\"YES\"', 'close', 'parenthesis', '.', '}', 'else{', 'printf', 'open', 'parenthesis', '\"NO\"', 'close', 'parenthesis', '.', '}', 'return', 'open', 'parenthesis', '0', 'close', 'parenthesis', '.', '}'], ['include', 'is', 'less', 'than', 'stdio', 'uses', 'h', 'is', 'greater', 'than', 'include', 'is', 'less', 'than', 'string', 'uses', 'h', 'is', 'greater', 'than', 'int', 'main', 'open', 'parenthesis', 'close', 'parenthesis', '{', 'int', 'a,b,c,i,j,k,d,dash', 'equals', '0,p', 'equals', '0', '.', 'char', 'str', 'open', 'bracket', '110', 'close', 'bracket', '.', 'scanf', 'open', 'parenthesis', '\"', 'is', 'moded', 'by', 's\",str', 'close', 'parenthesis', '.', 'for', 'open', 'parenthesis', 'i', 'equals', '0', '.', 'i', 'is', 'less', 'than', 'strlen', 'open', 'parenthesis', 'str', 'close', 'parenthesis', '.', 'i', 'is', 'incremented', 'by', 'one', 'close', 'parenthesis', '{', 'if', 'open', 'parenthesis', 'str', 'open', 'bracket', 'i', 'close', 'bracket', 'is', 'equal', 'to', \"'-'\", 'close', 'parenthesis', '{', 'dash', 'is', 'incremented', 'by', 'one', '.', '}', 'else{', 'p', 'is', 'incremented', 'by', 'one', '.', '}', '}', 'if', 'open', 'parenthesis', 'p', 'is', 'equal', 'to', '0', 'close', 'parenthesis', '{', 'printf', 'open', 'parenthesis', '\"YES\\\\n\"', 'close', 'parenthesis', '.', '}', 'else', 'if', 'open', 'parenthesis', 'dash', 'is', 'moded', 'by', 'p', 'is', 'equal', 'to', '0', 'close', 'parenthesis', '{', 'printf', 'open', 'parenthesis', '\"YES\\\\n\"', 'close', 'parenthesis', '.', '}', 'else{', 'printf', 'open', 'parenthesis', '\"NO\\\\n\"', 'close', 'parenthesis', '.', '}', 'return', '0', '.', '}'], ['include', 'is', 'less', 'than', 'stdio', 'uses', 'h', 'is', 'greater', 'than', 'include', 'is', 'less', 'than', 'string', 'uses', 'h', 'is', 'greater', 'than', 'main', 'open', 'parenthesis', 'close', 'parenthesis', '{', 'int', 'a,b,c', 'equals', '0,d', 'equals', '0,i,j', '.', 'char', 'ara', 'open', 'bracket', '100', 'close', 'bracket', '.', 'scanf', 'open', 'parenthesis', '\"', 'is', 'moded', 'by', 's\",', 'has', 'an', 'AND', 'done', 'with', 'ara', 'close', 'parenthesis', '.', 'int', 'l', 'equals', 'strlen', 'open', 'parenthesis', 'ara', 'close', 'parenthesis', '.', 'for', 'open', 'parenthesis', 'i', 'equals', '0', '.', 'i', 'is', 'less', 'than', 'l', '.', 'i', 'is', 'incremented', 'by', 'one', 'close', 'parenthesis', '{', 'if', 'open', 'parenthesis', 'ara', 'open', 'bracket', 'i', 'close', 'bracket', 'is', 'equal', 'to', \"'-'\", 'close', 'parenthesis', '{', 'c', 'is', 'incremented', 'by', 'one', '.', '}', 'else', 'if', 'open', 'parenthesis', 'ara', 'open', 'bracket', 'i', 'close', 'bracket', 'is', 'equal', 'to', \"'o'\", 'close', 'parenthesis', '{', 'd', 'is', 'incremented', 'by', 'one', '.', '}', '}', 'if', 'open', 'parenthesis', 'd', 'is', 'equal', 'to', '0', 'or', 'd', 'is', 'equal', 'to', '1', 'close', 'parenthesis', '{', 'printf', 'open', 'parenthesis', '\"YES\"', 'close', 'parenthesis', '.', '}', 'else', 'if', 'open', 'parenthesis', 'c', 'is', 'moded', 'by', 'd', 'is', 'equal', 'to', '0', 'close', 'parenthesis', '{', 'printf', 'open', 'parenthesis', '\"YES\"', 'close', 'parenthesis', '.', '}', 'else', 'if', 'open', 'parenthesis', 'c', 'is', 'moded', 'by', 'd', 'is', 'not', 'equal', 'to', '0', 'close', 'parenthesis', '{', 'printf', 'open', 'parenthesis', '\"NO\"', 'close', 'parenthesis', '.', '}', 'return', '0', '.', '}'], ['include', 'is', 'less', 'than', 'stdio', 'uses', 'h', 'is', 'greater', 'than', 'int', 'main', 'open', 'parenthesis', 'close', 'parenthesis', '{', 'char', 's', 'open', 'bracket', '101', 'close', 'bracket', '.', 'int', 'numP', 'equals', '0,numL', 'equals', '0', '.', 'int', 'i', '.', 'scanf', 'open', 'parenthesis', '\"', 'is', 'moded', 'by', 's\",s', 'close', 'parenthesis', '.', 'i', 'equals', '0', '.', 'while', 'open', 'parenthesis', 's', 'open', 'bracket', 'i', 'close', 'bracket', 'close', 'parenthesis', '{', 'if', 'open', 'parenthesis', 's', 'open', 'bracket', 'i', 'close', 'bracket', 'is', 'equal', 'to', \"'-'\", 'close', 'parenthesis', 'numL', 'is', 'incremented', 'by', 'one', '.', 'else', 'numP', 'is', 'incremented', 'by', 'one', '.', 'i', 'is', 'incremented', 'by', 'one', '.', '}', 'if', 'open', 'parenthesis', 'numP', 'is', 'equal', 'to', '0', 'close', 'parenthesis', 'printf', 'open', 'parenthesis', '\"YES\\\\n\"', 'close', 'parenthesis', '.', 'else', 'if', 'open', 'parenthesis', 'numL', 'is', 'moded', 'by', 'numP', 'is', 'equal', 'to', '0', 'close', 'parenthesis', 'printf', 'open', 'parenthesis', '\"YES\\\\n\"', 'close', 'parenthesis', '.', 'else', 'printf', 'open', 'parenthesis', '\"NO\\\\n\"', 'close', 'parenthesis', '.', 'return', '0', '.', '}'], ['include', 'is', 'less', 'than', 'stdio', 'uses', 'h', 'is', 'greater', 'than', 'char', 's', 'open', 'bracket', '110', 'close', 'bracket', '.', 'int', 'main', 'open', 'parenthesis', 'close', 'parenthesis', '{', 'int', 'i,a', 'equals', '0,b', 'equals', '0', '.', 'scanf', 'open', 'parenthesis', '\"', 'is', 'moded', 'by', 's\",s', 'is', 'added', 'to', '1', 'close', 'parenthesis', '.', 'for', 'open', 'parenthesis', 'i', 'equals', '1', '.', 's', 'open', 'bracket', 'i', 'close', 'bracket', '.', 'i', 'is', 'incremented', 'by', 'one', 'close', 'parenthesis', 'if', 'open', 'parenthesis', 's', 'open', 'bracket', 'i', 'close', 'bracket', 'is', 'equal', 'to', \"'-'\", 'close', 'parenthesis', 'a', 'is', 'incremented', 'by', 'one', '.', 'else', 'b', 'is', 'incremented', 'by', 'one', '.', 'printf', 'open', 'parenthesis', '\"', 'is', 'moded', 'by', 's\",b', 'and', 'a', 'is', 'moded', 'by', 'b', 'is', 'true', 'then', '\"NO\"', 'else', 'is', 'false', 'then', '\"YES\"', 'close', 'parenthesis', '.', 'return', '0', '.', '}'], ['include', 'is', 'less', 'than', 'stdlib', 'uses', 'h', 'is', 'greater', 'than', 'int', 'main', 'open', 'parenthesis', 'close', 'parenthesis', '{', 'int', 'i,a', 'equals', '0,b', 'equals', '0', '.', 'char', 's', 'open', 'bracket', '100', 'close', 'bracket', '.', 'scanf', 'open', 'parenthesis', '\"', 'is', 'moded', 'by', 's\",s', 'close', 'parenthesis', '.', 'int', 'l', 'equals', 'strlen', 'open', 'parenthesis', 's', 'close', 'parenthesis', '.', 'for', 'open', 'parenthesis', 'i', 'equals', '0', '.', 'i', 'is', 'less', 'than', 'l', '.', 'i', 'is', 'incremented', 'by', 'one', 'close', 'parenthesis', '{', 'if', 'open', 'parenthesis', 's', 'open', 'bracket', 'i', 'close', 'bracket', 'is', 'equal', 'to', \"'-'\", 'close', 'parenthesis', 'a', 'is', 'incremented', 'by', 'one', '.', 'if', 'open', 'parenthesis', 's', 'open', 'bracket', 'i', 'close', 'bracket', 'is', 'equal', 'to', \"'o'\", 'close', 'parenthesis', 'b', 'is', 'incremented', 'by', 'one', '.', '}', 'if', 'open', 'parenthesis', 'b', 'is', 'equal', 'to', '0', 'close', 'parenthesis', 'printf', 'open', 'parenthesis', '\"YES\"', 'close', 'parenthesis', '.', 'else', 'if', 'open', 'parenthesis', 'a', 'is', 'moded', 'by', 'b', 'is', 'equal', 'to', '0', 'close', 'parenthesis', 'printf', 'open', 'parenthesis', '\"YES\"', 'close', 'parenthesis', '.', 'else', 'printf', 'open', 'parenthesis', '\"NO\"', 'close', 'parenthesis', '.', 'return', '0', '.', '}'], ['include', 'is', 'less', 'than', 'stdio', 'uses', 'h', 'is', 'greater', 'than', 'include', 'is', 'less', 'than', 'string', 'uses', 'h', 'is', 'greater', 'than', 'int', 'main', 'open', 'parenthesis', 'close', 'parenthesis', '{', 'char', 'neck', 'open', 'bracket', '102', 'close', 'bracket', '.', 'gets', 'open', 'parenthesis', 'neck', 'close', 'parenthesis', '.', 'int', 'len', 'equals', 'strlen', 'open', 'parenthesis', 'neck', 'close', 'parenthesis', '.', 'int', 'x', 'equals', '0,', 'y', 'equals', '0', '.', 'for', 'open', 'parenthesis', 'int', 'i', 'equals', '0', '.', 'i', 'is', 'less', 'than', 'len', '.', 'i', 'is', 'incremented', 'by', 'one', 'close', 'parenthesis', '{', 'if', 'open', 'parenthesis', 'neck', 'open', 'bracket', 'i', 'close', 'bracket', 'is', 'equal', 'to', \"'-'\", 'close', 'parenthesis', 'x', 'is', 'incremented', 'by', 'one', '.', 'else', 'if', 'open', 'parenthesis', 'neck', 'open', 'bracket', 'i', 'close', 'bracket', 'is', 'equal', 'to', \"'o'\", 'close', 'parenthesis', 'y', 'is', 'incremented', 'by', 'one', '.', '}', 'if', 'open', 'parenthesis', 'x', 'is', 'equal', 'to', '0', 'or', 'y', 'is', 'equal', 'to', '0', 'close', 'parenthesis', 'printf', 'open', 'parenthesis', '\"YES\\\\n\"', 'close', 'parenthesis', '.', 'else', 'if', 'open', 'parenthesis', 'x', 'is', 'moded', 'by', 'y', 'is', 'equal', 'to', '0', 'close', 'parenthesis', 'printf', 'open', 'parenthesis', '\"YES\\\\n\"', 'close', 'parenthesis', '.', 'else', 'printf', 'open', 'parenthesis', '\"NO\\\\n\"', 'close', 'parenthesis', '.', 'return', '0', '.', '}']]\n"
     ]
    }
   ],
   "source": [
    "\n",
    "samples = []\n",
    "labels = []\n",
    "index = []\n",
    "\n",
    "for problem in jdata:\n",
    "    for submissions in problem['Submissions']:\n",
    "        for submission in submissions:\n",
    "            code = submissions[submission]['Code'][0]\n",
    "            code = naive_word_conversion(code)\n",
    "\n",
    "            \n",
    "            samples.append(codeToList(code))\n",
    "            labels.append(str(problem['contestId']) + problem['index'])\n",
    "            \n",
    "            index.append(submission)\n",
    "\n",
    "            \n",
    "print(samples[0:10])"
   ]
  },
  {
   "cell_type": "markdown",
   "metadata": {},
   "source": [
    "# Load a pre-trained Model"
   ]
  },
  {
   "cell_type": "code",
   "execution_count": 119,
   "metadata": {},
   "outputs": [
    {
     "name": "stdout",
     "output_type": "stream",
     "text": [
      "CPU times: user 1.47 s, sys: 261 ms, total: 1.73 s\n",
      "Wall time: 1.77 s\n"
     ]
    }
   ],
   "source": [
    "%%time\n",
    "import gensim.downloader as api\n",
    "# text8: First 100,000,000 bytes of plain text from Wikipedia\n",
    "corpus = api.load('text8')  # download the corpus and return it opened as an iterable\n",
    "corpus = [s for s in corpus]"
   ]
  },
  {
   "cell_type": "code",
   "execution_count": 147,
   "metadata": {},
   "outputs": [],
   "source": [
    "model = Word2Vec(size=300, window=4, min_count=1, workers=4, iter=1)  # train a model from the corpus\n",
    "model.build_vocab(corpus + samples)"
   ]
  },
  {
   "cell_type": "code",
   "execution_count": 148,
   "metadata": {},
   "outputs": [
    {
     "name": "stdout",
     "output_type": "stream",
     "text": [
      "Training epoch 0\n",
      "CPU times: user 1min 48s, sys: 264 ms, total: 1min 49s\n",
      "Wall time: 27.8 s\n"
     ]
    }
   ],
   "source": [
    "%%time\n",
    "for epoch in range(2):\n",
    "    if epoch % 2 == 0:\n",
    "        print('Training epoch %s' %epoch)\n",
    "    model.train(corpus,total_examples=model.corpus_count, epochs=model.iter)"
   ]
  },
  {
   "cell_type": "code",
   "execution_count": 153,
   "metadata": {},
   "outputs": [
    {
     "data": {
      "text/plain": [
       "[('queen', 0.6506679058074951),\n",
       " ('elizabeth', 0.644037127494812),\n",
       " ('prince', 0.6368358731269836),\n",
       " ('daughter', 0.6255747079849243),\n",
       " ('mary', 0.6230384111404419),\n",
       " ('throne', 0.6156575679779053),\n",
       " ('emperor', 0.6111117601394653),\n",
       " ('judah', 0.6030086278915405),\n",
       " ('empress', 0.6020327806472778),\n",
       " ('son', 0.5919702053070068)]"
      ]
     },
     "execution_count": 153,
     "metadata": {},
     "output_type": "execute_result"
    }
   ],
   "source": [
    "model.most_similar(positive=['woman', 'king'], negative=['man'])"
   ]
  },
  {
   "cell_type": "markdown",
   "metadata": {},
   "source": [
    "# Train the NLP Model"
   ]
  },
  {
   "cell_type": "code",
   "execution_count": 150,
   "metadata": {},
   "outputs": [
    {
     "name": "stdout",
     "output_type": "stream",
     "text": [
      "Training epoch 0\n",
      "Training epoch 2\n",
      "Training epoch 4\n",
      "Training epoch 6\n",
      "Training epoch 8\n"
     ]
    }
   ],
   "source": [
    "for epoch in range(100):\n",
    "    if epoch % 2 == 0:\n",
    "        print('Training epoch %s' %epoch)\n",
    "    model.train(samples,total_examples=model.corpus_count, epochs=model.iter)"
   ]
  },
  {
   "cell_type": "markdown",
   "metadata": {},
   "source": [
    "# Create a List of  Samples"
   ]
  },
  {
   "cell_type": "code",
   "execution_count": 154,
   "metadata": {},
   "outputs": [
    {
     "name": "stdout",
     "output_type": "stream",
     "text": [
      "CPU times: user 2.3 s, sys: 30.1 ms, total: 2.33 s\n",
      "Wall time: 2.29 s\n"
     ]
    }
   ],
   "source": [
    "%%time \n",
    "vectorSamples = []\n",
    "for sentence in samples:\n",
    "    accumulatedVector = np.zeros(300)\n",
    "    count =0\n",
    "    for word in sentence:\n",
    "        acumulatedVector = model.wv[word] + accumulatedVector  \n",
    "        count=count+1\n",
    "    \n",
    "    vectorSamples.append(acumulatedVector/count)\n",
    "\n",
    "    "
   ]
  },
  {
   "cell_type": "markdown",
   "metadata": {},
   "source": [
    "# Split the Data"
   ]
  },
  {
   "cell_type": "code",
   "execution_count": 155,
   "metadata": {},
   "outputs": [
    {
     "name": "stdout",
     "output_type": "stream",
     "text": [
      "Length of Labels Train: 2597\n",
      "Length of Samples Train: 2597\n",
      "\n",
      "Length of Labels TEST: 1280\n",
      "Length of Samples TEST: 1280\n"
     ]
    }
   ],
   "source": [
    "samples_train, samples_test, labels_train, labels_test = train_test_split(\n",
    "    vectorSamples, labels, test_size=0.33, random_state=42)\n",
    "\n",
    "\n",
    "#labels_train\n",
    "#samples_test\n",
    "#labels_test\n",
    "#samples_train\n",
    "print(\"Length of Labels Train: \"+str(len(labels_train)))\n",
    "print(\"Length of Samples Train: \"+str(len(samples_train)))\n",
    "print()\n",
    "print(\"Length of Labels TEST: \"+str(len(labels_test)))\n",
    "print(\"Length of Samples TEST: \"+str(len(samples_test)))"
   ]
  },
  {
   "cell_type": "markdown",
   "metadata": {},
   "source": [
    "# Create the Machine Learning Algorithms"
   ]
  },
  {
   "cell_type": "code",
   "execution_count": 156,
   "metadata": {},
   "outputs": [],
   "source": [
    "svm_classifier = svm.SVC(kernel='linear',class_weight='balanced')\n",
    "\n",
    "\n",
    "dt_classifier = tree.DecisionTreeClassifier(class_weight='balanced')\n",
    "\n",
    "\n",
    "rf_classifier = RandomForestClassifier(n_estimators=10,class_weight='balanced')\n",
    "\n",
    "\n",
    "nn_classifier = MLPClassifier(hidden_layer_sizes=(100,70),max_iter=500)\n",
    "\n"
   ]
  },
  {
   "cell_type": "markdown",
   "metadata": {},
   "source": [
    "# Scoring with vectorSamples and labels"
   ]
  },
  {
   "cell_type": "code",
   "execution_count": 157,
   "metadata": {},
   "outputs": [
    {
     "name": "stdout",
     "output_type": "stream",
     "text": [
      "SVM scores: [0.0754717  0.07535121 0.04241645 0.08246073 0.08322325]\n",
      "SVM scores average: 0.07178466929833138\n",
      "DT scores:  [0.14465409 0.13537676 0.13496144 0.14267016 0.12945839]\n",
      "DT scores average: 0.13742416582972852\n",
      "RF scores:  [0.13459119 0.12643678 0.14138817 0.14921466 0.14531044]\n",
      "RF scores average: 0.13938824940042369\n",
      "NN scores:  [0.18490566 0.17879949 0.1966581  0.19502618 0.17833554]\n",
      "NN scores average: 0.18674499204502534\n"
     ]
    }
   ],
   "source": [
    "svm_scores = cross_val_score(svm_classifier, vectorSamples, labels, cv=5)\n",
    "print('SVM scores: ' + str(svm_scores))\n",
    "svm_average = sum(svm_scores)/5\n",
    "print('SVM scores average: ' + str(svm_average))\n",
    "\n",
    "dt_scores = cross_val_score(dt_classifier, vectorSamples, labels, cv=5)\n",
    "print('DT scores:  ' + str(dt_scores))\n",
    "dt_average = sum(dt_scores)/5\n",
    "print('DT scores average: ' + str(dt_average))\n",
    "\n",
    "rf_scores = cross_val_score(rf_classifier, vectorSamples, labels, cv=5)\n",
    "print('RF scores:  ' + str(rf_scores))\n",
    "rf_average = sum(rf_scores)/5\n",
    "print('RF scores average: ' + str(rf_average))\n",
    "\n",
    "\n",
    "nn_scores = cross_val_score(nn_classifier, vectorSamples, labels, cv=5)\n",
    "print('NN scores:  ' + str(nn_scores))\n",
    "nn_average = sum(nn_scores)/5\n",
    "print('NN scores average: ' + str(nn_average))"
   ]
  },
  {
   "cell_type": "markdown",
   "metadata": {},
   "source": [
    "# Scoring with samples_test and labels_test"
   ]
  },
  {
   "cell_type": "code",
   "execution_count": 132,
   "metadata": {},
   "outputs": [
    {
     "name": "stderr",
     "output_type": "stream",
     "text": [
      "/home/agostini/.conda/envs/local/lib/python3.6/site-packages/sklearn/model_selection/_split.py:605: Warning: The least populated class in y has only 4 members, which is too few. The minimum number of members in any class cannot be less than n_splits=5.\n",
      "  % (min_groups, self.n_splits)), Warning)\n"
     ]
    },
    {
     "name": "stdout",
     "output_type": "stream",
     "text": [
      "SVM scores: [0.03623188 0.03007519 0.02702703 0.05691057 0.02575107]\n",
      "SVM scores average: 0.03519914822439746\n"
     ]
    },
    {
     "name": "stderr",
     "output_type": "stream",
     "text": [
      "/home/agostini/.conda/envs/local/lib/python3.6/site-packages/sklearn/model_selection/_split.py:605: Warning: The least populated class in y has only 4 members, which is too few. The minimum number of members in any class cannot be less than n_splits=5.\n",
      "  % (min_groups, self.n_splits)), Warning)\n"
     ]
    },
    {
     "name": "stdout",
     "output_type": "stream",
     "text": [
      "DT scores:  [0.0942029  0.11654135 0.0965251  0.13414634 0.09871245]\n",
      "DT scores average: 0.10802562725492515\n"
     ]
    },
    {
     "name": "stderr",
     "output_type": "stream",
     "text": [
      "/home/agostini/.conda/envs/local/lib/python3.6/site-packages/sklearn/model_selection/_split.py:605: Warning: The least populated class in y has only 4 members, which is too few. The minimum number of members in any class cannot be less than n_splits=5.\n",
      "  % (min_groups, self.n_splits)), Warning)\n"
     ]
    },
    {
     "name": "stdout",
     "output_type": "stream",
     "text": [
      "RF scores:  [0.07971014 0.11654135 0.11969112 0.12195122 0.10729614]\n",
      "RF scores average: 0.1090379949706731\n"
     ]
    },
    {
     "name": "stderr",
     "output_type": "stream",
     "text": [
      "/home/agostini/.conda/envs/local/lib/python3.6/site-packages/sklearn/model_selection/_split.py:605: Warning: The least populated class in y has only 4 members, which is too few. The minimum number of members in any class cannot be less than n_splits=5.\n",
      "  % (min_groups, self.n_splits)), Warning)\n"
     ]
    },
    {
     "name": "stdout",
     "output_type": "stream",
     "text": [
      "NN scores:  [0.14492754 0.16165414 0.14671815 0.14634146 0.17596567]\n",
      "NN scores average: 0.15512138938781245\n"
     ]
    }
   ],
   "source": [
    "svm_scores = cross_val_score(svm_classifier, samples_test, labels_test, cv=5)\n",
    "print('SVM scores: ' + str(svm_scores))\n",
    "svm_average = sum(svm_scores)/5\n",
    "print('SVM scores average: ' + str(svm_average))\n",
    "\n",
    "dt_scores = cross_val_score(dt_classifier, samples_test, labels_test, cv=5)\n",
    "print('DT scores:  ' + str(dt_scores))\n",
    "dt_average = sum(dt_scores)/5\n",
    "print('DT scores average: ' + str(dt_average))\n",
    "\n",
    "rf_scores = cross_val_score(rf_classifier, samples_test, labels_test, cv=5)\n",
    "print('RF scores:  ' + str(rf_scores))\n",
    "rf_average = sum(rf_scores)/5\n",
    "print('RF scores average: ' + str(rf_average))\n",
    "\n",
    "nn_scores = cross_val_score(nn_classifier, samples_test, labels_test, cv=5)\n",
    "print('NN scores:  ' + str(nn_scores))\n",
    "nn_average = sum(nn_scores)/5\n",
    "print('NN scores average: ' + str(nn_average))"
   ]
  },
  {
   "cell_type": "markdown",
   "metadata": {},
   "source": [
    "# Fit the Model"
   ]
  },
  {
   "cell_type": "code",
   "execution_count": 133,
   "metadata": {},
   "outputs": [
    {
     "data": {
      "text/plain": [
       "MLPClassifier(activation='relu', alpha=0.0001, batch_size='auto', beta_1=0.9,\n",
       "       beta_2=0.999, early_stopping=False, epsilon=1e-08,\n",
       "       hidden_layer_sizes=(100, 70), learning_rate='constant',\n",
       "       learning_rate_init=0.001, max_iter=500, momentum=0.9,\n",
       "       nesterovs_momentum=True, power_t=0.5, random_state=None,\n",
       "       shuffle=True, solver='adam', tol=0.0001, validation_fraction=0.1,\n",
       "       verbose=False, warm_start=False)"
      ]
     },
     "execution_count": 133,
     "metadata": {},
     "output_type": "execute_result"
    }
   ],
   "source": [
    "svm_classifier = svm.SVC(kernel='linear',class_weight='balanced')\n",
    "\n",
    "#5-20 height for decision tree\n",
    "dt_classifier = tree.DecisionTreeClassifier(class_weight='balanced')\n",
    "\n",
    "\n",
    "rf_classifier = RandomForestClassifier(n_estimators=10,class_weight='balanced')\n",
    "\n",
    "\n",
    "nn_classifier = MLPClassifier(hidden_layer_sizes=(100,70),max_iter=500)\n",
    "\n",
    "svm_classifier.fit(samples_train,labels_train)\n",
    "dt_classifier.fit(samples_train,labels_train)\n",
    "rf_classifier.fit(samples_train,labels_train)\n",
    "nn_classifier.fit(samples_train,labels_train)"
   ]
  },
  {
   "cell_type": "markdown",
   "metadata": {},
   "source": [
    "# Final Scores"
   ]
  },
  {
   "cell_type": "code",
   "execution_count": 134,
   "metadata": {},
   "outputs": [
    {
     "name": "stdout",
     "output_type": "stream",
     "text": [
      "SVM score: 0.0546875\n",
      "DT score: 0.13125\n",
      "RF score: 0.140625\n",
      "NN score: 0.17109375\n"
     ]
    }
   ],
   "source": [
    "score = svm_classifier.score(samples_test, labels_test)\n",
    "print('SVM score: ' + str(score))\n",
    "score = dt_classifier.score(samples_test, labels_test)\n",
    "print('DT score: ' + str(score))\n",
    "score = rf_classifier.score(samples_test, labels_test)\n",
    "print('RF score: ' + str(score))\n",
    "score = nn_classifier.score(samples_test, labels_test)\n",
    "print('NN score: ' + str(score))"
   ]
  },
  {
   "cell_type": "code",
   "execution_count": null,
   "metadata": {},
   "outputs": [],
   "source": []
  }
 ],
 "metadata": {
  "kernelspec": {
   "display_name": "Python 3",
   "language": "python",
   "name": "python3"
  },
  "language_info": {
   "codemirror_mode": {
    "name": "ipython",
    "version": 3
   },
   "file_extension": ".py",
   "mimetype": "text/x-python",
   "name": "python",
   "nbconvert_exporter": "python",
   "pygments_lexer": "ipython3",
   "version": "3.6.5"
  }
 },
 "nbformat": 4,
 "nbformat_minor": 2
}
